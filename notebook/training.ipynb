{
 "cells": [
  {
   "cell_type": "code",
   "execution_count": 1,
   "metadata": {},
   "outputs": [],
   "source": [
    "import sys\n",
    "\n",
    "\n",
    "sys.path.append(\"../\")"
   ]
  },
  {
   "cell_type": "code",
   "execution_count": 2,
   "metadata": {},
   "outputs": [],
   "source": [
    "from src.model import ANN"
   ]
  },
  {
   "cell_type": "code",
   "execution_count": 3,
   "metadata": {},
   "outputs": [],
   "source": [
    "model = ANN(4, 5, 3)"
   ]
  },
  {
   "cell_type": "code",
   "execution_count": 4,
   "metadata": {},
   "outputs": [
    {
     "data": {
      "text/plain": [
       "(150, 4)"
      ]
     },
     "execution_count": 4,
     "metadata": {},
     "output_type": "execute_result"
    }
   ],
   "source": [
    "from sklearn.datasets import load_iris\n",
    "\n",
    "iris = load_iris()\n",
    "x = iris.data\n",
    "x.shape"
   ]
  },
  {
   "cell_type": "code",
   "execution_count": 5,
   "metadata": {},
   "outputs": [
    {
     "data": {
      "text/plain": [
       "(150,)"
      ]
     },
     "execution_count": 5,
     "metadata": {},
     "output_type": "execute_result"
    }
   ],
   "source": [
    "iris.target.shape"
   ]
  },
  {
   "cell_type": "code",
   "execution_count": 6,
   "metadata": {},
   "outputs": [
    {
     "data": {
      "text/plain": [
       "(150, 3)"
      ]
     },
     "execution_count": 6,
     "metadata": {},
     "output_type": "execute_result"
    }
   ],
   "source": [
    "import numpy as np\n",
    "\n",
    "y = np.eye(3)[iris.target]\n",
    "y.shape"
   ]
  },
  {
   "cell_type": "code",
   "execution_count": 7,
   "metadata": {},
   "outputs": [
    {
     "data": {
      "text/plain": [
       "0.3333333333333333"
      ]
     },
     "execution_count": 7,
     "metadata": {},
     "output_type": "execute_result"
    }
   ],
   "source": [
    "from sklearn.metrics import accuracy_score\n",
    "\n",
    "\n",
    "predicted_y = model.predict(x)\n",
    "result = np.zeros_like(predicted_y)\n",
    "result[np.arange(result.shape[0]), np.argmax(predicted_y, axis=1)] = 1\n",
    "accuracy_score(y, result)  # 正確率"
   ]
  },
  {
   "cell_type": "code",
   "execution_count": 8,
   "metadata": {},
   "outputs": [
    {
     "name": "stdout",
     "output_type": "stream",
     "text": [
      "Training progress: 10.00% completed. Current loss: 916.3747\n"
     ]
    },
    {
     "name": "stdout",
     "output_type": "stream",
     "text": [
      "Training progress: 20.00% completed. Current loss: 827.2851\n",
      "Training progress: 30.00% completed. Current loss: 822.6731\n",
      "Training progress: 40.00% completed. Current loss: 821.9674\n",
      "Training progress: 50.00% completed. Current loss: 821.5985\n",
      "Training progress: 60.00% completed. Current loss: 821.5283\n",
      "Training progress: 70.00% completed. Current loss: 821.2660\n",
      "Training progress: 80.00% completed. Current loss: 821.2319\n",
      "Training progress: 90.00% completed. Current loss: 821.2765\n",
      "Training progress: 100.00% completed. Current loss: 820.6806\n"
     ]
    }
   ],
   "source": [
    "model.fit(x, y, epochs=1000)"
   ]
  },
  {
   "cell_type": "code",
   "execution_count": 9,
   "metadata": {},
   "outputs": [
    {
     "data": {
      "text/plain": [
       "0.72"
      ]
     },
     "execution_count": 9,
     "metadata": {},
     "output_type": "execute_result"
    }
   ],
   "source": [
    "predicted_y = model.predict(x)\n",
    "result = np.zeros_like(predicted_y)\n",
    "result[np.arange(result.shape[0]), np.argmax(predicted_y, axis=1)] = 1\n",
    "accuracy_score(y, result)  # 正確率"
   ]
  },
  {
   "cell_type": "code",
   "execution_count": 10,
   "metadata": {},
   "outputs": [
    {
     "name": "stdout",
     "output_type": "stream",
     "text": [
      "Training progress: 10.00% completed. Current loss: 821.0439\n"
     ]
    },
    {
     "name": "stdout",
     "output_type": "stream",
     "text": [
      "Training progress: 20.00% completed. Current loss: 821.2522\n",
      "Training progress: 30.00% completed. Current loss: 821.1390\n",
      "Training progress: 40.00% completed. Current loss: 820.8493\n",
      "Training progress: 50.00% completed. Current loss: 820.8453\n",
      "Training progress: 60.00% completed. Current loss: 854.2449\n",
      "Training progress: 70.00% completed. Current loss: 784.3765\n",
      "Training progress: 80.00% completed. Current loss: 778.4662\n",
      "Training progress: 90.00% completed. Current loss: 771.9140\n",
      "Training progress: 100.00% completed. Current loss: 769.1420\n"
     ]
    }
   ],
   "source": [
    "model.fit(x, y, epochs=1000)"
   ]
  },
  {
   "cell_type": "code",
   "execution_count": 11,
   "metadata": {},
   "outputs": [
    {
     "data": {
      "text/plain": [
       "0.9533333333333334"
      ]
     },
     "execution_count": 11,
     "metadata": {},
     "output_type": "execute_result"
    }
   ],
   "source": [
    "predicted_y = model.predict(x)\n",
    "result = np.zeros_like(predicted_y)\n",
    "result[np.arange(result.shape[0]), np.argmax(predicted_y, axis=1)] = 1\n",
    "accuracy_score(y, result)  # 正確率"
   ]
  },
  {
   "cell_type": "code",
   "execution_count": 12,
   "metadata": {},
   "outputs": [],
   "source": [
    "model.save(\"../model.pkl\")"
   ]
  },
  {
   "cell_type": "code",
   "execution_count": 14,
   "metadata": {},
   "outputs": [],
   "source": [
    "import pickle as pk\n",
    "\n",
    "ann = pk.load(open(\"../model.pkl\", \"rb\"))"
   ]
  },
  {
   "cell_type": "code",
   "execution_count": 16,
   "metadata": {},
   "outputs": [
    {
     "data": {
      "text/plain": [
       "0.9533333333333334"
      ]
     },
     "execution_count": 16,
     "metadata": {},
     "output_type": "execute_result"
    }
   ],
   "source": [
    "predicted_y = ann.predict(x)\n",
    "result = np.zeros_like(predicted_y)\n",
    "result[np.arange(result.shape[0]), np.argmax(predicted_y, axis=1)] = 1\n",
    "accuracy_score(y, result)  # 正確率"
   ]
  },
  {
   "cell_type": "code",
   "execution_count": null,
   "metadata": {},
   "outputs": [],
   "source": []
  }
 ],
 "metadata": {
  "kernelspec": {
   "display_name": "numpynn",
   "language": "python",
   "name": "python3"
  },
  "language_info": {
   "codemirror_mode": {
    "name": "ipython",
    "version": 3
   },
   "file_extension": ".py",
   "mimetype": "text/x-python",
   "name": "python",
   "nbconvert_exporter": "python",
   "pygments_lexer": "ipython3",
   "version": "3.9.4"
  },
  "orig_nbformat": 4
 },
 "nbformat": 4,
 "nbformat_minor": 2
}
